{
 "cells": [
  {
   "cell_type": "markdown",
   "id": "6867dd4a-79c0-41cd-9626-99c87a2a0ff2",
   "metadata": {},
   "source": [
    "## Centro Histórico de Juiz de Fora"
   ]
  },
  {
   "cell_type": "markdown",
   "id": "965a5b4f-ef76-4ee5-a5d9-ada182f43f31",
   "metadata": {},
   "source": [
    "### Delimitação espacial"
   ]
  },
  {
   "cell_type": "markdown",
   "id": "e40eb3a0-bf22-4f38-9634-f20695670a37",
   "metadata": {},
   "source": [
    "O **Jornal Tribuna de Minas** [noticiou](https://tribunademinas.com.br/noticias/cidade/24-01-2025/centro-historico-jf.html) a publicação de um [decreto](https://www.pjf.mg.gov.br/e_atos/e_atos_vis.php?id=126353), pela Prefeitura Municipal de Juiz de Fora, que delimita o Centro Histórico da cidade. [Anexo](https://www.pjf.mg.gov.br/e_atos/anexos/anexo_centro_175327.pdf) ao decreto, consta um memorial descritivo do polígono de delimitação da área."
   ]
  },
  {
   "cell_type": "markdown",
   "id": "71300a8c-74d1-4c9f-a8a9-2e0c5bd7e306",
   "metadata": {},
   "source": [
    "A partir das coordenadas UTM do polígono fornecidas, vamos criar um mapa interativo do Centro Histórico, utilizando as bibliotecas do Python."
   ]
  },
  {
   "cell_type": "markdown",
   "id": "bd401d9c-6136-438b-bc7f-f82ed50eaefe",
   "metadata": {},
   "source": [
    "<br>\n",
    "\n",
    "**Importamos as bibliotecas necessárias**"
   ]
  },
  {
   "cell_type": "code",
   "execution_count": 1,
   "id": "d73e72f0-216b-4951-ab1f-6dc621f7bf7d",
   "metadata": {},
   "outputs": [],
   "source": [
    "import folium\n",
    "from folium import plugins\n",
    "from pyproj import Proj, Transformer\n",
    "from shapely.geometry import Polygon"
   ]
  },
  {
   "cell_type": "markdown",
   "id": "68e1d209-e4e1-4dc9-a737-a7e716bf5d54",
   "metadata": {},
   "source": [
    "<br>\n",
    "\n",
    "**Definimos a área de interesse**"
   ]
  },
  {
   "cell_type": "code",
   "execution_count": 2,
   "id": "96ff0417-74a2-4b08-b200-c0e18eefd92c",
   "metadata": {},
   "outputs": [],
   "source": [
    "# Coordenadas UTM do polígono\n",
    "vertices_utm = [\n",
    "    (671631.01298, 7592562.9258),\n",
    "    (670483.76674, 7593577.0383),\n",
    "    (670398.10899, 7593532.9851),\n",
    "    (670322.59534, 7593692.0525),\n",
    "    (670290.67635, 7593669.7837),\n",
    "    (670377.32049, 7593520.1438),\n",
    "    (670302.54290, 7593484.0129),\n",
    "    (670391.01186, 7593079.2177),\n",
    "    (670353.52763, 7593071.3745),\n",
    "    (670291.86401, 7593099.9004),\n",
    "    (670188.72948, 7593021.7110),\n",
    "    (670392.36957, 7593068.9978),\n",
    "    (670471.79272, 7592740.6347),\n",
    "    (670401.69082, 7592724.5514),\n",
    "    (670423.71811, 7592633.6294),\n",
    "    (670231.47881, 7592584.9345),\n",
    "    (670234.18470, 7592574.6061),\n",
    "    (670494.86684, 7592637.8945),\n",
    "    (670565.63917, 7592323.5994)\n",
    "]"
   ]
  },
  {
   "cell_type": "markdown",
   "id": "3ec2b501-9fda-48f0-ac39-c6f4dfadd876",
   "metadata": {},
   "source": [
    "<br>\n",
    "\n",
    "**Definimos o Sistema de Referência Espacial**"
   ]
  },
  {
   "cell_type": "markdown",
   "id": "7717753d-fb5d-4312-bc36-4cfcbe00c051",
   "metadata": {},
   "source": [
    "Convertemos as coordenadas UTM fornecidas do Sistema SIRGAS 2000 para EPSG4326, que é o padrão adotado pelo *folium*. "
   ]
  },
  {
   "cell_type": "code",
   "execution_count": 3,
   "id": "e48e1f25-3ad2-4d5c-88e9-eebfe54e5916",
   "metadata": {},
   "outputs": [],
   "source": [
    "# Inicializar transformador UTM para WGS84\n",
    "proj_utm = Proj(proj='utm', zone=23, south=True, ellps='GRS80', datum='WGS84')\n",
    "transformer = Transformer.from_proj(proj_utm, 'epsg:4326')\n",
    "\n",
    "# Converter coordenadas UTM para latitude e longitude\n",
    "vertices_wgs84 = [transformer.transform(easting, northing) for easting, northing in vertices_utm]\n"
   ]
  },
  {
   "cell_type": "markdown",
   "id": "a5741913-9a09-4fd9-bd27-99e634db0a7e",
   "metadata": {},
   "source": [
    "<br>\n",
    "\n",
    "*Exibimos as coordenadas obtidas:*"
   ]
  },
  {
   "cell_type": "code",
   "execution_count": 4,
   "id": "cb7c1540-6c78-4871-b6cd-0c94fbdb87e5",
   "metadata": {},
   "outputs": [
    {
     "name": "stdout",
     "output_type": "stream",
     "text": [
      "[(-21.762281043001835, -43.34016652775217), (-21.753233459476547, -43.351362572075494), (-21.753639557293926, -43.352186110828214), (-21.75221027520308, -43.35293251378737), (-21.752414458261512, -43.353238788656014), (-21.753757529707904, -43.35238575673133), (-21.754091028762748, -43.35310493520417), (-21.75773825072305, -43.352207947099004), (-21.757812692768333, -43.35256952148563), (-21.75756100908489, -43.353168600600966), (-21.758277067755575, -43.354157612890276), (-21.75783041668798, -43.35219376769888), (-21.760788237237197, -43.35139206518308), (-21.760940240650374, -43.35206813839776), (-21.761759241939266, -43.35184580552671), (-21.762217519769386, -43.35369933505048), (-21.76231053597393, -43.35367211067517), (-21.76171386749516, -43.351158388857264), (-21.764545464282058, -43.350441727160124)]\n"
     ]
    }
   ],
   "source": [
    "print(vertices_wgs84)"
   ]
  },
  {
   "cell_type": "markdown",
   "id": "c576c6be-bc52-4603-a6a2-33432c34d8e7",
   "metadata": {},
   "source": [
    "<br>\n",
    "\n",
    "**Definimos os parâmetros do polígono**"
   ]
  },
  {
   "cell_type": "code",
   "execution_count": 5,
   "id": "e3b6b741-fd23-4791-aac0-e219d0f67b3a",
   "metadata": {},
   "outputs": [],
   "source": [
    "## Inverter para a ordem correta (latitude, longitude)\n",
    "location = [(lat, lon) for lon, lat in vertices_wgs84]\n",
    "\n",
    "# Criar polígono no Folium\n",
    "polygon = Polygon(location)\n",
    "\n",
    "# Obter os limites do polígono (bounding box)\n",
    "bounds = polygon.bounds  # (min_lon, min_lat, max_lon, max_lat)"
   ]
  },
  {
   "cell_type": "markdown",
   "id": "0664eb72-97c1-4e05-a63c-e49df3877c67",
   "metadata": {},
   "source": [
    "<br>\n",
    "\n",
    "**Definimos os parâmetros do mapa**"
   ]
  },
  {
   "cell_type": "code",
   "execution_count": 6,
   "id": "341b6e68-aeb0-4b5b-be19-3a800cb1b997",
   "metadata": {},
   "outputs": [],
   "source": [
    "# Criar mapa centralizado nos limites do polígono\n",
    "mapa = folium.Map()\n",
    "\n",
    "# Adicionar polígono ao mapa\n",
    "folium.Polygon(\n",
    "    locations=vertices_wgs84,\n",
    "    zoom_start=15,\n",
    "    color=\"blue\",\n",
    "    weight=2,\n",
    "    fill=True,\n",
    "    fill_opacity=0.5\n",
    ").add_to(mapa)\n",
    "folium.plugins.Fullscreen(\n",
    "    position=\"bottomright\",\n",
    "    title=\"Tela cheia\",\n",
    "    title_cancel=\"Restaurar\",\n",
    "    force_separete_button=True,\n",
    ").add_to(mapa)\n",
    "\n",
    "# Ajustar o mapa aos limites do polígono\n",
    "mapa.fit_bounds([[bounds[1], bounds[0]], [bounds[3], bounds[2]]])"
   ]
  },
  {
   "cell_type": "markdown",
   "id": "bad41365-3944-4bc5-96c8-7efc8a52591a",
   "metadata": {},
   "source": [
    "<br>\n",
    "\n",
    "**Visualizamos o mapa**"
   ]
  },
  {
   "cell_type": "code",
   "execution_count": 7,
   "id": "3026d458-eb34-4e69-93d8-29ee880362d3",
   "metadata": {},
   "outputs": [
    {
     "data": {
      "text/html": [
       "<div style=\"width:100%;\"><div style=\"position:relative;width:100%;height:0;padding-bottom:60%;\"><span style=\"color:#565656\">Make this Notebook Trusted to load map: File -> Trust Notebook</span><iframe srcdoc=\"&lt;!DOCTYPE html&gt;\n",
       "&lt;html&gt;\n",
       "&lt;head&gt;\n",
       "    \n",
       "    &lt;meta http-equiv=&quot;content-type&quot; content=&quot;text/html; charset=UTF-8&quot; /&gt;\n",
       "    \n",
       "        &lt;script&gt;\n",
       "            L_NO_TOUCH = false;\n",
       "            L_DISABLE_3D = false;\n",
       "        &lt;/script&gt;\n",
       "    \n",
       "    &lt;style&gt;html, body {width: 100%;height: 100%;margin: 0;padding: 0;}&lt;/style&gt;\n",
       "    &lt;style&gt;#map {position:absolute;top:0;bottom:0;right:0;left:0;}&lt;/style&gt;\n",
       "    &lt;script src=&quot;https://cdn.jsdelivr.net/npm/leaflet@1.9.3/dist/leaflet.js&quot;&gt;&lt;/script&gt;\n",
       "    &lt;script src=&quot;https://code.jquery.com/jquery-3.7.1.min.js&quot;&gt;&lt;/script&gt;\n",
       "    &lt;script src=&quot;https://cdn.jsdelivr.net/npm/bootstrap@5.2.2/dist/js/bootstrap.bundle.min.js&quot;&gt;&lt;/script&gt;\n",
       "    &lt;script src=&quot;https://cdnjs.cloudflare.com/ajax/libs/Leaflet.awesome-markers/2.0.2/leaflet.awesome-markers.js&quot;&gt;&lt;/script&gt;\n",
       "    &lt;link rel=&quot;stylesheet&quot; href=&quot;https://cdn.jsdelivr.net/npm/leaflet@1.9.3/dist/leaflet.css&quot;/&gt;\n",
       "    &lt;link rel=&quot;stylesheet&quot; href=&quot;https://cdn.jsdelivr.net/npm/bootstrap@5.2.2/dist/css/bootstrap.min.css&quot;/&gt;\n",
       "    &lt;link rel=&quot;stylesheet&quot; href=&quot;https://netdna.bootstrapcdn.com/bootstrap/3.0.0/css/bootstrap-glyphicons.css&quot;/&gt;\n",
       "    &lt;link rel=&quot;stylesheet&quot; href=&quot;https://cdn.jsdelivr.net/npm/@fortawesome/fontawesome-free@6.2.0/css/all.min.css&quot;/&gt;\n",
       "    &lt;link rel=&quot;stylesheet&quot; href=&quot;https://cdnjs.cloudflare.com/ajax/libs/Leaflet.awesome-markers/2.0.2/leaflet.awesome-markers.css&quot;/&gt;\n",
       "    &lt;link rel=&quot;stylesheet&quot; href=&quot;https://cdn.jsdelivr.net/gh/python-visualization/folium/folium/templates/leaflet.awesome.rotate.min.css&quot;/&gt;\n",
       "    \n",
       "            &lt;meta name=&quot;viewport&quot; content=&quot;width=device-width,\n",
       "                initial-scale=1.0, maximum-scale=1.0, user-scalable=no&quot; /&gt;\n",
       "            &lt;style&gt;\n",
       "                #map_5cf776da68efdd5c9ec7c080889bb580 {\n",
       "                    position: relative;\n",
       "                    width: 100.0%;\n",
       "                    height: 100.0%;\n",
       "                    left: 0.0%;\n",
       "                    top: 0.0%;\n",
       "                }\n",
       "                .leaflet-container { font-size: 1rem; }\n",
       "            &lt;/style&gt;\n",
       "        \n",
       "    &lt;script src=&quot;https://cdn.jsdelivr.net/npm/leaflet.fullscreen@3.0.0/Control.FullScreen.min.js&quot;&gt;&lt;/script&gt;\n",
       "    &lt;link rel=&quot;stylesheet&quot; href=&quot;https://cdn.jsdelivr.net/npm/leaflet.fullscreen@3.0.0/Control.FullScreen.css&quot;/&gt;\n",
       "&lt;/head&gt;\n",
       "&lt;body&gt;\n",
       "    \n",
       "    \n",
       "            &lt;div class=&quot;folium-map&quot; id=&quot;map_5cf776da68efdd5c9ec7c080889bb580&quot; &gt;&lt;/div&gt;\n",
       "        \n",
       "&lt;/body&gt;\n",
       "&lt;script&gt;\n",
       "    \n",
       "    \n",
       "            var map_5cf776da68efdd5c9ec7c080889bb580 = L.map(\n",
       "                &quot;map_5cf776da68efdd5c9ec7c080889bb580&quot;,\n",
       "                {\n",
       "                    center: [0.0, 0.0],\n",
       "                    crs: L.CRS.EPSG3857,\n",
       "                    zoom: 1,\n",
       "                    zoomControl: true,\n",
       "                    preferCanvas: false,\n",
       "                }\n",
       "            );\n",
       "\n",
       "            \n",
       "\n",
       "        \n",
       "    \n",
       "            var tile_layer_c5a2ef2b69dba56516173a119eb03b60 = L.tileLayer(\n",
       "                &quot;https://tile.openstreetmap.org/{z}/{x}/{y}.png&quot;,\n",
       "                {&quot;attribution&quot;: &quot;\\u0026copy; \\u003ca href=\\&quot;https://www.openstreetmap.org/copyright\\&quot;\\u003eOpenStreetMap\\u003c/a\\u003e contributors&quot;, &quot;detectRetina&quot;: false, &quot;maxNativeZoom&quot;: 19, &quot;maxZoom&quot;: 19, &quot;minZoom&quot;: 0, &quot;noWrap&quot;: false, &quot;opacity&quot;: 1, &quot;subdomains&quot;: &quot;abc&quot;, &quot;tms&quot;: false}\n",
       "            );\n",
       "        \n",
       "    \n",
       "            tile_layer_c5a2ef2b69dba56516173a119eb03b60.addTo(map_5cf776da68efdd5c9ec7c080889bb580);\n",
       "        \n",
       "    \n",
       "            var polygon_05b590a6944ee9d3e983e25917f2bbbc = L.polygon(\n",
       "                [[-21.762281043001835, -43.34016652775217], [-21.753233459476547, -43.351362572075494], [-21.753639557293926, -43.352186110828214], [-21.75221027520308, -43.35293251378737], [-21.752414458261512, -43.353238788656014], [-21.753757529707904, -43.35238575673133], [-21.754091028762748, -43.35310493520417], [-21.75773825072305, -43.352207947099004], [-21.757812692768333, -43.35256952148563], [-21.75756100908489, -43.353168600600966], [-21.758277067755575, -43.354157612890276], [-21.75783041668798, -43.35219376769888], [-21.760788237237197, -43.35139206518308], [-21.760940240650374, -43.35206813839776], [-21.761759241939266, -43.35184580552671], [-21.762217519769386, -43.35369933505048], [-21.76231053597393, -43.35367211067517], [-21.76171386749516, -43.351158388857264], [-21.764545464282058, -43.350441727160124]],\n",
       "                {&quot;bubblingMouseEvents&quot;: true, &quot;color&quot;: &quot;blue&quot;, &quot;dashArray&quot;: null, &quot;dashOffset&quot;: null, &quot;fill&quot;: true, &quot;fillColor&quot;: &quot;blue&quot;, &quot;fillOpacity&quot;: 0.5, &quot;fillRule&quot;: &quot;evenodd&quot;, &quot;lineCap&quot;: &quot;round&quot;, &quot;lineJoin&quot;: &quot;round&quot;, &quot;noClip&quot;: false, &quot;opacity&quot;: 1.0, &quot;smoothFactor&quot;: 1.0, &quot;stroke&quot;: true, &quot;weight&quot;: 2}\n",
       "            ).addTo(map_5cf776da68efdd5c9ec7c080889bb580);\n",
       "        \n",
       "    \n",
       "            L.control.fullscreen(\n",
       "                {&quot;forceSeparateButton&quot;: false, &quot;forceSepareteButton&quot;: true, &quot;position&quot;: &quot;bottomright&quot;, &quot;title&quot;: &quot;Tela cheia&quot;, &quot;titleCancel&quot;: &quot;Restaurar&quot;}\n",
       "            ).addTo(map_5cf776da68efdd5c9ec7c080889bb580);\n",
       "        \n",
       "    \n",
       "            map_5cf776da68efdd5c9ec7c080889bb580.fitBounds(\n",
       "                [[-21.764545464282058, -43.354157612890276], [-21.75221027520308, -43.34016652775217]],\n",
       "                {}\n",
       "            );\n",
       "        \n",
       "    \n",
       "            tile_layer_c5a2ef2b69dba56516173a119eb03b60.addTo(map_5cf776da68efdd5c9ec7c080889bb580);\n",
       "        \n",
       "&lt;/script&gt;\n",
       "&lt;/html&gt;\" style=\"position:absolute;width:100%;height:100%;left:0;top:0;border:none !important;\" allowfullscreen webkitallowfullscreen mozallowfullscreen></iframe></div></div>"
      ],
      "text/plain": [
       "<folium.folium.Map at 0x73d78db32390>"
      ]
     },
     "execution_count": 7,
     "metadata": {},
     "output_type": "execute_result"
    }
   ],
   "source": [
    "# Salvar e exibir mapa\n",
    "mapa.save(\"mapa_com_poligono.html\")\n",
    "mapa"
   ]
  },
  {
   "cell_type": "code",
   "execution_count": null,
   "id": "5e94ab76-d82c-4fb3-9418-8c30e9cb77bb",
   "metadata": {},
   "outputs": [],
   "source": []
  }
 ],
 "metadata": {
  "kernelspec": {
   "display_name": "Python 3 (ipykernel)",
   "language": "python",
   "name": "python3"
  },
  "language_info": {
   "codemirror_mode": {
    "name": "ipython",
    "version": 3
   },
   "file_extension": ".py",
   "mimetype": "text/x-python",
   "name": "python",
   "nbconvert_exporter": "python",
   "pygments_lexer": "ipython3",
   "version": "3.12.3"
  }
 },
 "nbformat": 4,
 "nbformat_minor": 5
}
